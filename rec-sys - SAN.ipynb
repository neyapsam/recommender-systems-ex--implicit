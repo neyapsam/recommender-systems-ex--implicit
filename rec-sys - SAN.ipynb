{
 "cells": [
  {
   "cell_type": "code",
   "execution_count": 1,
   "metadata": {},
   "outputs": [],
   "source": [
    "import pandas as pd\n",
    "import numpy as np\n",
    "import matplotlib.pyplot as plt\n",
    "import seaborn as sns\n",
    "\n",
    "import scipy.sparse as sparse\n",
    "from scipy.sparse.linalg import spsolve\n",
    "from sklearn import metrics\n",
    "from sklearn.preprocessing import MinMaxScaler\n",
    "import random\n",
    "import implicit\n",
    "\n",
    "pd.set_option('display.max_rows', 100)\n",
    "\n",
    "import warnings\n",
    "warnings.filterwarnings(\"ignore\")"
   ]
  },
  {
   "cell_type": "code",
   "execution_count": 2,
   "metadata": {},
   "outputs": [
    {
     "name": "stdout",
     "output_type": "stream",
     "text": [
      "(1973, 4)\n"
     ]
    },
    {
     "data": {
      "text/html": [
       "<div>\n",
       "<style scoped>\n",
       "    .dataframe tbody tr th:only-of-type {\n",
       "        vertical-align: middle;\n",
       "    }\n",
       "\n",
       "    .dataframe tbody tr th {\n",
       "        vertical-align: top;\n",
       "    }\n",
       "\n",
       "    .dataframe thead th {\n",
       "        text-align: right;\n",
       "    }\n",
       "</style>\n",
       "<table border=\"1\" class=\"dataframe\">\n",
       "  <thead>\n",
       "    <tr style=\"text-align: right;\">\n",
       "      <th></th>\n",
       "      <th>AnonId</th>\n",
       "      <th>Sessionid</th>\n",
       "      <th>Country</th>\n",
       "      <th>City</th>\n",
       "    </tr>\n",
       "  </thead>\n",
       "  <tbody>\n",
       "    <tr>\n",
       "      <td>0</td>\n",
       "      <td>97293cdc-6098-4ffc-83fc-221166595a27</td>\n",
       "      <td>de8a36c6-a59d-454e-813a-10b410d232a4</td>\n",
       "      <td>RS</td>\n",
       "      <td>Pančevo</td>\n",
       "    </tr>\n",
       "    <tr>\n",
       "      <td>1</td>\n",
       "      <td>ac199577-1638-40fe-b0d9-c82806d9995e</td>\n",
       "      <td>8511cb18-2b11-4ff9-a0cc-38872e44f88e</td>\n",
       "      <td>RU</td>\n",
       "      <td>Moscow</td>\n",
       "    </tr>\n",
       "    <tr>\n",
       "      <td>2</td>\n",
       "      <td>8efccb37-8a6b-4e72-82bf-6b7b7e896ca9</td>\n",
       "      <td>39844256-5af9-4482-b1d9-6ecadc694316</td>\n",
       "      <td>RS</td>\n",
       "      <td>NaN</td>\n",
       "    </tr>\n",
       "    <tr>\n",
       "      <td>3</td>\n",
       "      <td>2f4b2f56-0c22-4486-a9e5-fc76ab77820e</td>\n",
       "      <td>613b2399-8d3a-43a5-a53f-337077c6d828</td>\n",
       "      <td>RS</td>\n",
       "      <td>Smederevo</td>\n",
       "    </tr>\n",
       "    <tr>\n",
       "      <td>4</td>\n",
       "      <td>a908ff62-fe6d-4201-9a70-5474f4938a52</td>\n",
       "      <td>6ef9e025-b843-4d94-b49c-65a60b2a45ac</td>\n",
       "      <td>RS</td>\n",
       "      <td>Belgrade</td>\n",
       "    </tr>\n",
       "  </tbody>\n",
       "</table>\n",
       "</div>"
      ],
      "text/plain": [
       "                                 AnonId                             Sessionid  \\\n",
       "0  97293cdc-6098-4ffc-83fc-221166595a27  de8a36c6-a59d-454e-813a-10b410d232a4   \n",
       "1  ac199577-1638-40fe-b0d9-c82806d9995e  8511cb18-2b11-4ff9-a0cc-38872e44f88e   \n",
       "2  8efccb37-8a6b-4e72-82bf-6b7b7e896ca9  39844256-5af9-4482-b1d9-6ecadc694316   \n",
       "3  2f4b2f56-0c22-4486-a9e5-fc76ab77820e  613b2399-8d3a-43a5-a53f-337077c6d828   \n",
       "4  a908ff62-fe6d-4201-9a70-5474f4938a52  6ef9e025-b843-4d94-b49c-65a60b2a45ac   \n",
       "\n",
       "  Country       City  \n",
       "0      RS    Pančevo  \n",
       "1      RU     Moscow  \n",
       "2      RS        NaN  \n",
       "3      RS  Smederevo  \n",
       "4      RS   Belgrade  "
      ]
     },
     "execution_count": 2,
     "metadata": {},
     "output_type": "execute_result"
    }
   ],
   "source": [
    "users = pd.read_csv(\"rec_sys/user.csv\")\n",
    "print(users.shape)\n",
    "users.head()"
   ]
  },
  {
   "cell_type": "code",
   "execution_count": 3,
   "metadata": {},
   "outputs": [
    {
     "name": "stdout",
     "output_type": "stream",
     "text": [
      "(4704, 3)\n"
     ]
    },
    {
     "data": {
      "text/html": [
       "<div>\n",
       "<style scoped>\n",
       "    .dataframe tbody tr th:only-of-type {\n",
       "        vertical-align: middle;\n",
       "    }\n",
       "\n",
       "    .dataframe tbody tr th {\n",
       "        vertical-align: top;\n",
       "    }\n",
       "\n",
       "    .dataframe thead th {\n",
       "        text-align: right;\n",
       "    }\n",
       "</style>\n",
       "<table border=\"1\" class=\"dataframe\">\n",
       "  <thead>\n",
       "    <tr style=\"text-align: right;\">\n",
       "      <th></th>\n",
       "      <th>AnonId</th>\n",
       "      <th>HotelName</th>\n",
       "      <th>HotelCategory</th>\n",
       "    </tr>\n",
       "  </thead>\n",
       "  <tbody>\n",
       "    <tr>\n",
       "      <td>0</td>\n",
       "      <td>97293cdc-6098-4ffc-83fc-221166595a27</td>\n",
       "      <td>CAVALIERI HOTEL</td>\n",
       "      <td>4</td>\n",
       "    </tr>\n",
       "    <tr>\n",
       "      <td>1</td>\n",
       "      <td>458b7809-dec1-4948-958b-4c085173fffa</td>\n",
       "      <td>SAPHIR HOTEL</td>\n",
       "      <td>4</td>\n",
       "    </tr>\n",
       "    <tr>\n",
       "      <td>2</td>\n",
       "      <td>6b85379a-1d99-427f-a931-b311bfae472b</td>\n",
       "      <td>ASPALACE HOTEL THE ISTANBUL OLD CITY</td>\n",
       "      <td>3</td>\n",
       "    </tr>\n",
       "    <tr>\n",
       "      <td>3</td>\n",
       "      <td>8efccb37-8a6b-4e72-82bf-6b7b7e896ca9</td>\n",
       "      <td>AMARA DOLCE VITA LUXURY</td>\n",
       "      <td>5</td>\n",
       "    </tr>\n",
       "    <tr>\n",
       "      <td>4</td>\n",
       "      <td>2f4b2f56-0c22-4486-a9e5-fc76ab77820e</td>\n",
       "      <td>NAVARRIA HOTEL</td>\n",
       "      <td>3</td>\n",
       "    </tr>\n",
       "  </tbody>\n",
       "</table>\n",
       "</div>"
      ],
      "text/plain": [
       "                                 AnonId                             HotelName  \\\n",
       "0  97293cdc-6098-4ffc-83fc-221166595a27                       CAVALIERI HOTEL   \n",
       "1  458b7809-dec1-4948-958b-4c085173fffa                          SAPHIR HOTEL   \n",
       "2  6b85379a-1d99-427f-a931-b311bfae472b  ASPALACE HOTEL THE ISTANBUL OLD CITY   \n",
       "3  8efccb37-8a6b-4e72-82bf-6b7b7e896ca9               AMARA DOLCE VITA LUXURY   \n",
       "4  2f4b2f56-0c22-4486-a9e5-fc76ab77820e                        NAVARRIA HOTEL   \n",
       "\n",
       "  HotelCategory  \n",
       "0             4  \n",
       "1             4  \n",
       "2             3  \n",
       "3             5  \n",
       "4             3  "
      ]
     },
     "execution_count": 3,
     "metadata": {},
     "output_type": "execute_result"
    }
   ],
   "source": [
    "activities = pd.read_csv(\"rec_sys/activity.csv\")\n",
    "print(activities.shape)\n",
    "activities.head()"
   ]
  },
  {
   "cell_type": "code",
   "execution_count": 4,
   "metadata": {},
   "outputs": [
    {
     "name": "stdout",
     "output_type": "stream",
     "text": [
      "(1208, 2)\n"
     ]
    },
    {
     "data": {
      "text/html": [
       "<div>\n",
       "<style scoped>\n",
       "    .dataframe tbody tr th:only-of-type {\n",
       "        vertical-align: middle;\n",
       "    }\n",
       "\n",
       "    .dataframe tbody tr th {\n",
       "        vertical-align: top;\n",
       "    }\n",
       "\n",
       "    .dataframe thead th {\n",
       "        text-align: right;\n",
       "    }\n",
       "</style>\n",
       "<table border=\"1\" class=\"dataframe\">\n",
       "  <thead>\n",
       "    <tr style=\"text-align: right;\">\n",
       "      <th></th>\n",
       "      <th>HotelName</th>\n",
       "      <th>HotelCategory</th>\n",
       "    </tr>\n",
       "  </thead>\n",
       "  <tbody>\n",
       "    <tr>\n",
       "      <td>0</td>\n",
       "      <td>KATYA BEACH HOTEL</td>\n",
       "      <td>5</td>\n",
       "    </tr>\n",
       "    <tr>\n",
       "      <td>1</td>\n",
       "      <td>VIHREN PALACE</td>\n",
       "      <td>4</td>\n",
       "    </tr>\n",
       "    <tr>\n",
       "      <td>2</td>\n",
       "      <td>HOTEL GOLF PRAGUE</td>\n",
       "      <td>4</td>\n",
       "    </tr>\n",
       "    <tr>\n",
       "      <td>3</td>\n",
       "      <td>PENSION BOHMERWALD</td>\n",
       "      <td>3</td>\n",
       "    </tr>\n",
       "    <tr>\n",
       "      <td>4</td>\n",
       "      <td>APOLLON HOTEL</td>\n",
       "      <td>4</td>\n",
       "    </tr>\n",
       "  </tbody>\n",
       "</table>\n",
       "</div>"
      ],
      "text/plain": [
       "            HotelName HotelCategory\n",
       "0   KATYA BEACH HOTEL             5\n",
       "1      VIHREN PALACE              4\n",
       "2   HOTEL GOLF PRAGUE             4\n",
       "3  PENSION BOHMERWALD             3\n",
       "4       APOLLON HOTEL             4"
      ]
     },
     "execution_count": 4,
     "metadata": {},
     "output_type": "execute_result"
    }
   ],
   "source": [
    "hotels = pd.read_csv(\"rec_sys/hotel.csv\")\n",
    "print(hotels.shape)\n",
    "hotels.head()"
   ]
  },
  {
   "cell_type": "markdown",
   "metadata": {},
   "source": [
    "# preprocess"
   ]
  },
  {
   "cell_type": "code",
   "execution_count": 5,
   "metadata": {},
   "outputs": [],
   "source": [
    "def missing(df):\n",
    "    miss = df.isnull().sum()\n",
    "    return miss[miss > 0]"
   ]
  },
  {
   "cell_type": "code",
   "execution_count": 6,
   "metadata": {},
   "outputs": [
    {
     "data": {
      "text/plain": [
       "AnonId         1\n",
       "Sessionid      3\n",
       "Country        2\n",
       "City         275\n",
       "dtype: int64"
      ]
     },
     "execution_count": 6,
     "metadata": {},
     "output_type": "execute_result"
    }
   ],
   "source": [
    "missing(users)"
   ]
  },
  {
   "cell_type": "code",
   "execution_count": 7,
   "metadata": {},
   "outputs": [],
   "source": [
    "users.dropna(subset=[\"AnonId\", \"Sessionid\", \"Country\"], axis=0, inplace=True)"
   ]
  },
  {
   "cell_type": "code",
   "execution_count": 8,
   "metadata": {},
   "outputs": [
    {
     "data": {
      "text/plain": [
       "Country\n",
       "AL                                                   []\n",
       "AT                                             [Vienna]\n",
       "BA                                           [Sarajevo]\n",
       "BE                                           [Verviers]\n",
       "BG                                              [Sofia]\n",
       "CH                        [Duillier, Guensberg, Zurich]\n",
       "DE    [Berlin, Bielefeld, Frankfurt am Main, Munich,...\n",
       "EG                                              [Cairo]\n",
       "ES                                           [Albacete]\n",
       "FI                                           [Helsinki]\n",
       "FR                                             [Pantin]\n",
       "GB                                                   []\n",
       "GE                                            [Tbilisi]\n",
       "HR                                             [Zagreb]\n",
       "HU                                           [Budapest]\n",
       "IE                                 [Dublin, Inishannon]\n",
       "IQ                                       [Sulaymaniyah]\n",
       "IT                                     [Milan, Palermo]\n",
       "ME                                          [Podgorica]\n",
       "MK                                             [Skopje]\n",
       "MT                               [Birkirkara, Cospicua]\n",
       "NO                                             [Narvik]\n",
       "PT                                              [Porto]\n",
       "RO                               [Bucharest, Timișoara]\n",
       "RS                                           [Belgrade]\n",
       "RU                              [Moscow, Yekaterinburg]\n",
       "SE                            [Osterhaninge, Stockholm]\n",
       "SI                                          [Ljubljana]\n",
       "TR                                           [Istanbul]\n",
       "US                                          [The Bronx]\n",
       "XK                                              [Klina]\n",
       "Name: City, dtype: object"
      ]
     },
     "execution_count": 8,
     "metadata": {},
     "output_type": "execute_result"
    }
   ],
   "source": [
    "users.groupby(\"Country\")[\"City\"].apply(lambda x: pd.Series.mode(x).values)"
   ]
  },
  {
   "cell_type": "code",
   "execution_count": 9,
   "metadata": {},
   "outputs": [],
   "source": [
    "users[users[\"Country\"]==\"AL\"] = users[users[\"Country\"]==\"AL\"].fillna(\"AL\")\n",
    "users[users[\"Country\"]==\"GB\"] = users[users[\"Country\"]==\"GB\"].fillna(\"GB\")"
   ]
  },
  {
   "cell_type": "code",
   "execution_count": 10,
   "metadata": {},
   "outputs": [
    {
     "data": {
      "text/plain": [
       "Series([], dtype: int64)"
      ]
     },
     "execution_count": 10,
     "metadata": {},
     "output_type": "execute_result"
    }
   ],
   "source": [
    "city_na = users.groupby(\"Country\")[\"City\"].apply(lambda x: pd.Series.mode(x).values[0]).to_dict()\n",
    "users[\"City\"] = users[\"Country\"].map(city_na)\n",
    "\n",
    "missing(users)"
   ]
  },
  {
   "cell_type": "code",
   "execution_count": 11,
   "metadata": {},
   "outputs": [
    {
     "data": {
      "text/plain": [
       "AnonId    1\n",
       "dtype: int64"
      ]
     },
     "execution_count": 11,
     "metadata": {},
     "output_type": "execute_result"
    }
   ],
   "source": [
    "missing(activities)"
   ]
  },
  {
   "cell_type": "code",
   "execution_count": 12,
   "metadata": {},
   "outputs": [
    {
     "data": {
      "text/plain": [
       "Series([], dtype: int64)"
      ]
     },
     "execution_count": 12,
     "metadata": {},
     "output_type": "execute_result"
    }
   ],
   "source": [
    "activities.dropna(inplace=True)\n",
    "missing(activities)"
   ]
  },
  {
   "cell_type": "code",
   "execution_count": 13,
   "metadata": {},
   "outputs": [
    {
     "data": {
      "text/plain": [
       "Series([], dtype: int64)"
      ]
     },
     "execution_count": 13,
     "metadata": {},
     "output_type": "execute_result"
    }
   ],
   "source": [
    "missing(hotels)"
   ]
  },
  {
   "cell_type": "code",
   "execution_count": 14,
   "metadata": {},
   "outputs": [
    {
     "data": {
      "text/html": [
       "<div>\n",
       "<style scoped>\n",
       "    .dataframe tbody tr th:only-of-type {\n",
       "        vertical-align: middle;\n",
       "    }\n",
       "\n",
       "    .dataframe tbody tr th {\n",
       "        vertical-align: top;\n",
       "    }\n",
       "\n",
       "    .dataframe thead th {\n",
       "        text-align: right;\n",
       "    }\n",
       "</style>\n",
       "<table border=\"1\" class=\"dataframe\">\n",
       "  <thead>\n",
       "    <tr style=\"text-align: right;\">\n",
       "      <th></th>\n",
       "      <th>AnonId</th>\n",
       "      <th>Country</th>\n",
       "      <th>City</th>\n",
       "      <th>HotelName</th>\n",
       "      <th>HotelCategory</th>\n",
       "    </tr>\n",
       "  </thead>\n",
       "  <tbody>\n",
       "    <tr>\n",
       "      <td>0</td>\n",
       "      <td>97293cdc-6098-4ffc-83fc-221166595a27</td>\n",
       "      <td>RS</td>\n",
       "      <td>Belgrade</td>\n",
       "      <td>CAVALIERI HOTEL</td>\n",
       "      <td>4</td>\n",
       "    </tr>\n",
       "    <tr>\n",
       "      <td>1</td>\n",
       "      <td>97293cdc-6098-4ffc-83fc-221166595a27</td>\n",
       "      <td>RS</td>\n",
       "      <td>Belgrade</td>\n",
       "      <td>ARMADA BLUE BAY</td>\n",
       "      <td>4</td>\n",
       "    </tr>\n",
       "    <tr>\n",
       "      <td>2</td>\n",
       "      <td>ac199577-1638-40fe-b0d9-c82806d9995e</td>\n",
       "      <td>RU</td>\n",
       "      <td>Moscow</td>\n",
       "      <td>SUN BEACH HOTEL</td>\n",
       "      <td>4</td>\n",
       "    </tr>\n",
       "    <tr>\n",
       "      <td>3</td>\n",
       "      <td>ac199577-1638-40fe-b0d9-c82806d9995e</td>\n",
       "      <td>RU</td>\n",
       "      <td>Moscow</td>\n",
       "      <td>ARISTOTELES HOLIDAY RESORT &amp; SPA (BOMO)</td>\n",
       "      <td>4</td>\n",
       "    </tr>\n",
       "    <tr>\n",
       "      <td>4</td>\n",
       "      <td>ac199577-1638-40fe-b0d9-c82806d9995e</td>\n",
       "      <td>RU</td>\n",
       "      <td>Moscow</td>\n",
       "      <td>SANTA BEACH HOTEL</td>\n",
       "      <td>4</td>\n",
       "    </tr>\n",
       "    <tr>\n",
       "      <td>...</td>\n",
       "      <td>...</td>\n",
       "      <td>...</td>\n",
       "      <td>...</td>\n",
       "      <td>...</td>\n",
       "      <td>...</td>\n",
       "    </tr>\n",
       "    <tr>\n",
       "      <td>8523</td>\n",
       "      <td>ec697358-765c-4729-a1fe-0855aedea0cd</td>\n",
       "      <td>RS</td>\n",
       "      <td>Belgrade</td>\n",
       "      <td>MAYA WORLD BEACH ALANYA</td>\n",
       "      <td>4</td>\n",
       "    </tr>\n",
       "    <tr>\n",
       "      <td>8524</td>\n",
       "      <td>ec697358-765c-4729-a1fe-0855aedea0cd</td>\n",
       "      <td>RS</td>\n",
       "      <td>Belgrade</td>\n",
       "      <td>SAPHIR HOTEL</td>\n",
       "      <td>4</td>\n",
       "    </tr>\n",
       "    <tr>\n",
       "      <td>8525</td>\n",
       "      <td>808c30a0-4c1f-466a-841e-2c5c67186e8f</td>\n",
       "      <td>RS</td>\n",
       "      <td>Belgrade</td>\n",
       "      <td>SULTAN SIPAHI RESORT</td>\n",
       "      <td>4</td>\n",
       "    </tr>\n",
       "    <tr>\n",
       "      <td>8526</td>\n",
       "      <td>dbca78c1-dd3a-4cac-8ed6-13bfc647cd5b</td>\n",
       "      <td>RS</td>\n",
       "      <td>Belgrade</td>\n",
       "      <td>GRAND OASIS RESORT</td>\n",
       "      <td>4</td>\n",
       "    </tr>\n",
       "    <tr>\n",
       "      <td>8527</td>\n",
       "      <td>dbca78c1-dd3a-4cac-8ed6-13bfc647cd5b</td>\n",
       "      <td>RS</td>\n",
       "      <td>Belgrade</td>\n",
       "      <td>SHARM GRAND PLAZA</td>\n",
       "      <td>5</td>\n",
       "    </tr>\n",
       "  </tbody>\n",
       "</table>\n",
       "<p>4671 rows × 5 columns</p>\n",
       "</div>"
      ],
      "text/plain": [
       "                                    AnonId Country      City  \\\n",
       "0     97293cdc-6098-4ffc-83fc-221166595a27      RS  Belgrade   \n",
       "1     97293cdc-6098-4ffc-83fc-221166595a27      RS  Belgrade   \n",
       "2     ac199577-1638-40fe-b0d9-c82806d9995e      RU    Moscow   \n",
       "3     ac199577-1638-40fe-b0d9-c82806d9995e      RU    Moscow   \n",
       "4     ac199577-1638-40fe-b0d9-c82806d9995e      RU    Moscow   \n",
       "...                                    ...     ...       ...   \n",
       "8523  ec697358-765c-4729-a1fe-0855aedea0cd      RS  Belgrade   \n",
       "8524  ec697358-765c-4729-a1fe-0855aedea0cd      RS  Belgrade   \n",
       "8525  808c30a0-4c1f-466a-841e-2c5c67186e8f      RS  Belgrade   \n",
       "8526  dbca78c1-dd3a-4cac-8ed6-13bfc647cd5b      RS  Belgrade   \n",
       "8527  dbca78c1-dd3a-4cac-8ed6-13bfc647cd5b      RS  Belgrade   \n",
       "\n",
       "                                    HotelName HotelCategory  \n",
       "0                             CAVALIERI HOTEL             4  \n",
       "1                             ARMADA BLUE BAY             4  \n",
       "2                             SUN BEACH HOTEL             4  \n",
       "3     ARISTOTELES HOLIDAY RESORT & SPA (BOMO)             4  \n",
       "4                           SANTA BEACH HOTEL             4  \n",
       "...                                       ...           ...  \n",
       "8523                  MAYA WORLD BEACH ALANYA             4  \n",
       "8524                             SAPHIR HOTEL             4  \n",
       "8525                     SULTAN SIPAHI RESORT             4  \n",
       "8526                       GRAND OASIS RESORT             4  \n",
       "8527                       SHARM GRAND PLAZA              5  \n",
       "\n",
       "[4671 rows x 5 columns]"
      ]
     },
     "execution_count": 14,
     "metadata": {},
     "output_type": "execute_result"
    }
   ],
   "source": [
    "df = users.drop(\"Sessionid\", axis=1).merge(activities, on=\"AnonId\").drop_duplicates()\n",
    "df"
   ]
  },
  {
   "cell_type": "code",
   "execution_count": 15,
   "metadata": {},
   "outputs": [
    {
     "data": {
      "text/plain": [
       "5         1912\n",
       "4         1825\n",
       "3          706\n",
       "0          127\n",
       "2           95\n",
       "4Stars       4\n",
       "5Stars       1\n",
       "3Stars       1\n",
       "Name: HotelCategory, dtype: int64"
      ]
     },
     "execution_count": 15,
     "metadata": {},
     "output_type": "execute_result"
    }
   ],
   "source": [
    "df.HotelCategory.value_counts()"
   ]
  },
  {
   "cell_type": "code",
   "execution_count": 16,
   "metadata": {},
   "outputs": [],
   "source": [
    "map_hotel = {\"3Stars\": 3, \"4Stars\": 4, \"5Stars\":5}\n",
    "df[\"HotelCategory\"].replace(map_hotel, inplace=True)\n",
    "df[\"HotelCategory\"] = df[\"HotelCategory\"].astype(int)"
   ]
  },
  {
   "cell_type": "code",
   "execution_count": 17,
   "metadata": {},
   "outputs": [
    {
     "data": {
      "text/html": [
       "<div>\n",
       "<style scoped>\n",
       "    .dataframe tbody tr th:only-of-type {\n",
       "        vertical-align: middle;\n",
       "    }\n",
       "\n",
       "    .dataframe tbody tr th {\n",
       "        vertical-align: top;\n",
       "    }\n",
       "\n",
       "    .dataframe thead th {\n",
       "        text-align: right;\n",
       "    }\n",
       "</style>\n",
       "<table border=\"1\" class=\"dataframe\">\n",
       "  <thead>\n",
       "    <tr style=\"text-align: right;\">\n",
       "      <th></th>\n",
       "      <th>AnonId</th>\n",
       "      <th>Country</th>\n",
       "      <th>City</th>\n",
       "      <th>HotelName</th>\n",
       "      <th>HotelCategory</th>\n",
       "    </tr>\n",
       "  </thead>\n",
       "  <tbody>\n",
       "    <tr>\n",
       "      <td>0</td>\n",
       "      <td>0000d271-8b7e-4bb6-bc06-ffbe9412864a</td>\n",
       "      <td>RS</td>\n",
       "      <td>Belgrade</td>\n",
       "      <td>AL KHOORY ATRIUM</td>\n",
       "      <td>4</td>\n",
       "    </tr>\n",
       "    <tr>\n",
       "      <td>1</td>\n",
       "      <td>0000d271-8b7e-4bb6-bc06-ffbe9412864a</td>\n",
       "      <td>RS</td>\n",
       "      <td>Belgrade</td>\n",
       "      <td>ARMADA BLUE BAY</td>\n",
       "      <td>4</td>\n",
       "    </tr>\n",
       "    <tr>\n",
       "      <td>2</td>\n",
       "      <td>0000d271-8b7e-4bb6-bc06-ffbe9412864a</td>\n",
       "      <td>RS</td>\n",
       "      <td>Belgrade</td>\n",
       "      <td>DUKES HOTEL</td>\n",
       "      <td>5</td>\n",
       "    </tr>\n",
       "    <tr>\n",
       "      <td>3</td>\n",
       "      <td>0000d271-8b7e-4bb6-bc06-ffbe9412864a</td>\n",
       "      <td>RS</td>\n",
       "      <td>Belgrade</td>\n",
       "      <td>GRAND EXCELSIOR BUR DUBAI</td>\n",
       "      <td>4</td>\n",
       "    </tr>\n",
       "    <tr>\n",
       "      <td>4</td>\n",
       "      <td>0000d271-8b7e-4bb6-bc06-ffbe9412864a</td>\n",
       "      <td>RS</td>\n",
       "      <td>Belgrade</td>\n",
       "      <td>JONRAD HOTEL</td>\n",
       "      <td>3</td>\n",
       "    </tr>\n",
       "    <tr>\n",
       "      <td>...</td>\n",
       "      <td>...</td>\n",
       "      <td>...</td>\n",
       "      <td>...</td>\n",
       "      <td>...</td>\n",
       "      <td>...</td>\n",
       "    </tr>\n",
       "    <tr>\n",
       "      <td>4661</td>\n",
       "      <td>ff151134-9044-4867-abbb-aa41bd8310a5</td>\n",
       "      <td>RS</td>\n",
       "      <td>Belgrade</td>\n",
       "      <td>SHARM GRAND PLAZA</td>\n",
       "      <td>5</td>\n",
       "    </tr>\n",
       "    <tr>\n",
       "      <td>4662</td>\n",
       "      <td>ff3be02c-3e46-4f35-8f46-094770638159</td>\n",
       "      <td>RS</td>\n",
       "      <td>Belgrade</td>\n",
       "      <td>EDEN HOTEL</td>\n",
       "      <td>4</td>\n",
       "    </tr>\n",
       "    <tr>\n",
       "      <td>4663</td>\n",
       "      <td>ff3be02c-3e46-4f35-8f46-094770638159</td>\n",
       "      <td>RS</td>\n",
       "      <td>Belgrade</td>\n",
       "      <td>VIENNA HOTEL</td>\n",
       "      <td>3</td>\n",
       "    </tr>\n",
       "    <tr>\n",
       "      <td>4664</td>\n",
       "      <td>ff620c52-bbfa-4594-8906-7bb57cd59f15</td>\n",
       "      <td>RS</td>\n",
       "      <td>Belgrade</td>\n",
       "      <td>IC HOTELS GREEN PALACE</td>\n",
       "      <td>5</td>\n",
       "    </tr>\n",
       "    <tr>\n",
       "      <td>4665</td>\n",
       "      <td>ff620c52-bbfa-4594-8906-7bb57cd59f15</td>\n",
       "      <td>RS</td>\n",
       "      <td>Belgrade</td>\n",
       "      <td>MIRADA DEL MAR HOTEL</td>\n",
       "      <td>5</td>\n",
       "    </tr>\n",
       "  </tbody>\n",
       "</table>\n",
       "<p>4666 rows × 5 columns</p>\n",
       "</div>"
      ],
      "text/plain": [
       "                                    AnonId Country      City  \\\n",
       "0     0000d271-8b7e-4bb6-bc06-ffbe9412864a      RS  Belgrade   \n",
       "1     0000d271-8b7e-4bb6-bc06-ffbe9412864a      RS  Belgrade   \n",
       "2     0000d271-8b7e-4bb6-bc06-ffbe9412864a      RS  Belgrade   \n",
       "3     0000d271-8b7e-4bb6-bc06-ffbe9412864a      RS  Belgrade   \n",
       "4     0000d271-8b7e-4bb6-bc06-ffbe9412864a      RS  Belgrade   \n",
       "...                                    ...     ...       ...   \n",
       "4661  ff151134-9044-4867-abbb-aa41bd8310a5      RS  Belgrade   \n",
       "4662  ff3be02c-3e46-4f35-8f46-094770638159      RS  Belgrade   \n",
       "4663  ff3be02c-3e46-4f35-8f46-094770638159      RS  Belgrade   \n",
       "4664  ff620c52-bbfa-4594-8906-7bb57cd59f15      RS  Belgrade   \n",
       "4665  ff620c52-bbfa-4594-8906-7bb57cd59f15      RS  Belgrade   \n",
       "\n",
       "                      HotelName  HotelCategory  \n",
       "0              AL KHOORY ATRIUM              4  \n",
       "1               ARMADA BLUE BAY              4  \n",
       "2                  DUKES HOTEL               5  \n",
       "3     GRAND EXCELSIOR BUR DUBAI              4  \n",
       "4                  JONRAD HOTEL              3  \n",
       "...                         ...            ...  \n",
       "4661         SHARM GRAND PLAZA               5  \n",
       "4662                 EDEN HOTEL              4  \n",
       "4663               VIENNA HOTEL              3  \n",
       "4664     IC HOTELS GREEN PALACE              5  \n",
       "4665       MIRADA DEL MAR HOTEL              5  \n",
       "\n",
       "[4666 rows x 5 columns]"
      ]
     },
     "execution_count": 17,
     "metadata": {},
     "output_type": "execute_result"
    }
   ],
   "source": [
    "grouped = df.groupby([\"AnonId\", \"Country\", \"City\", \"HotelName\"]).sum().reset_index()\n",
    "grouped"
   ]
  },
  {
   "cell_type": "code",
   "execution_count": 18,
   "metadata": {},
   "outputs": [],
   "source": [
    "grouped[\"AnonId\"]=grouped[\"AnonId\"].astype(\"category\")\n",
    "grouped[\"Country\"]=grouped[\"Country\"].astype(\"category\")\n",
    "grouped[\"City\"]=grouped[\"City\"].astype(\"category\")\n",
    "grouped[\"HotelName\"]=grouped[\"HotelName\"].astype(\"category\")\n",
    "\n",
    "grouped[\"Anon_id\"] = grouped[\"AnonId\"].cat.codes\n",
    "grouped[\"Country_id\"] = grouped[\"Country\"].cat.codes\n",
    "grouped[\"City_id\"] = grouped[\"City\"].cat.codes\n",
    "grouped[\"Hotel_id\"] = grouped[\"HotelName\"].cat.codes"
   ]
  },
  {
   "cell_type": "code",
   "execution_count": 19,
   "metadata": {},
   "outputs": [
    {
     "data": {
      "text/html": [
       "<div>\n",
       "<style scoped>\n",
       "    .dataframe tbody tr th:only-of-type {\n",
       "        vertical-align: middle;\n",
       "    }\n",
       "\n",
       "    .dataframe tbody tr th {\n",
       "        vertical-align: top;\n",
       "    }\n",
       "\n",
       "    .dataframe thead th {\n",
       "        text-align: right;\n",
       "    }\n",
       "</style>\n",
       "<table border=\"1\" class=\"dataframe\">\n",
       "  <thead>\n",
       "    <tr style=\"text-align: right;\">\n",
       "      <th></th>\n",
       "      <th>AnonId</th>\n",
       "      <th>Country</th>\n",
       "      <th>City</th>\n",
       "      <th>HotelName</th>\n",
       "      <th>HotelCategory</th>\n",
       "      <th>Anon_id</th>\n",
       "      <th>Country_id</th>\n",
       "      <th>City_id</th>\n",
       "      <th>Hotel_id</th>\n",
       "    </tr>\n",
       "  </thead>\n",
       "  <tbody>\n",
       "    <tr>\n",
       "      <td>0</td>\n",
       "      <td>0000d271-8b7e-4bb6-bc06-ffbe9412864a</td>\n",
       "      <td>RS</td>\n",
       "      <td>Belgrade</td>\n",
       "      <td>AL KHOORY ATRIUM</td>\n",
       "      <td>4</td>\n",
       "      <td>0</td>\n",
       "      <td>24</td>\n",
       "      <td>2</td>\n",
       "      <td>15</td>\n",
       "    </tr>\n",
       "    <tr>\n",
       "      <td>1</td>\n",
       "      <td>0000d271-8b7e-4bb6-bc06-ffbe9412864a</td>\n",
       "      <td>RS</td>\n",
       "      <td>Belgrade</td>\n",
       "      <td>ARMADA BLUE BAY</td>\n",
       "      <td>4</td>\n",
       "      <td>0</td>\n",
       "      <td>24</td>\n",
       "      <td>2</td>\n",
       "      <td>63</td>\n",
       "    </tr>\n",
       "    <tr>\n",
       "      <td>2</td>\n",
       "      <td>0000d271-8b7e-4bb6-bc06-ffbe9412864a</td>\n",
       "      <td>RS</td>\n",
       "      <td>Belgrade</td>\n",
       "      <td>DUKES HOTEL</td>\n",
       "      <td>5</td>\n",
       "      <td>0</td>\n",
       "      <td>24</td>\n",
       "      <td>2</td>\n",
       "      <td>230</td>\n",
       "    </tr>\n",
       "    <tr>\n",
       "      <td>3</td>\n",
       "      <td>0000d271-8b7e-4bb6-bc06-ffbe9412864a</td>\n",
       "      <td>RS</td>\n",
       "      <td>Belgrade</td>\n",
       "      <td>GRAND EXCELSIOR BUR DUBAI</td>\n",
       "      <td>4</td>\n",
       "      <td>0</td>\n",
       "      <td>24</td>\n",
       "      <td>2</td>\n",
       "      <td>315</td>\n",
       "    </tr>\n",
       "    <tr>\n",
       "      <td>4</td>\n",
       "      <td>0000d271-8b7e-4bb6-bc06-ffbe9412864a</td>\n",
       "      <td>RS</td>\n",
       "      <td>Belgrade</td>\n",
       "      <td>JONRAD HOTEL</td>\n",
       "      <td>3</td>\n",
       "      <td>0</td>\n",
       "      <td>24</td>\n",
       "      <td>2</td>\n",
       "      <td>405</td>\n",
       "    </tr>\n",
       "    <tr>\n",
       "      <td>...</td>\n",
       "      <td>...</td>\n",
       "      <td>...</td>\n",
       "      <td>...</td>\n",
       "      <td>...</td>\n",
       "      <td>...</td>\n",
       "      <td>...</td>\n",
       "      <td>...</td>\n",
       "      <td>...</td>\n",
       "      <td>...</td>\n",
       "    </tr>\n",
       "    <tr>\n",
       "      <td>4661</td>\n",
       "      <td>ff151134-9044-4867-abbb-aa41bd8310a5</td>\n",
       "      <td>RS</td>\n",
       "      <td>Belgrade</td>\n",
       "      <td>SHARM GRAND PLAZA</td>\n",
       "      <td>5</td>\n",
       "      <td>1581</td>\n",
       "      <td>24</td>\n",
       "      <td>2</td>\n",
       "      <td>762</td>\n",
       "    </tr>\n",
       "    <tr>\n",
       "      <td>4662</td>\n",
       "      <td>ff3be02c-3e46-4f35-8f46-094770638159</td>\n",
       "      <td>RS</td>\n",
       "      <td>Belgrade</td>\n",
       "      <td>EDEN HOTEL</td>\n",
       "      <td>4</td>\n",
       "      <td>1582</td>\n",
       "      <td>24</td>\n",
       "      <td>2</td>\n",
       "      <td>233</td>\n",
       "    </tr>\n",
       "    <tr>\n",
       "      <td>4663</td>\n",
       "      <td>ff3be02c-3e46-4f35-8f46-094770638159</td>\n",
       "      <td>RS</td>\n",
       "      <td>Belgrade</td>\n",
       "      <td>VIENNA HOTEL</td>\n",
       "      <td>3</td>\n",
       "      <td>1582</td>\n",
       "      <td>24</td>\n",
       "      <td>2</td>\n",
       "      <td>869</td>\n",
       "    </tr>\n",
       "    <tr>\n",
       "      <td>4664</td>\n",
       "      <td>ff620c52-bbfa-4594-8906-7bb57cd59f15</td>\n",
       "      <td>RS</td>\n",
       "      <td>Belgrade</td>\n",
       "      <td>IC HOTELS GREEN PALACE</td>\n",
       "      <td>5</td>\n",
       "      <td>1583</td>\n",
       "      <td>24</td>\n",
       "      <td>2</td>\n",
       "      <td>381</td>\n",
       "    </tr>\n",
       "    <tr>\n",
       "      <td>4665</td>\n",
       "      <td>ff620c52-bbfa-4594-8906-7bb57cd59f15</td>\n",
       "      <td>RS</td>\n",
       "      <td>Belgrade</td>\n",
       "      <td>MIRADA DEL MAR HOTEL</td>\n",
       "      <td>5</td>\n",
       "      <td>1583</td>\n",
       "      <td>24</td>\n",
       "      <td>2</td>\n",
       "      <td>533</td>\n",
       "    </tr>\n",
       "  </tbody>\n",
       "</table>\n",
       "<p>4666 rows × 9 columns</p>\n",
       "</div>"
      ],
      "text/plain": [
       "                                    AnonId Country      City  \\\n",
       "0     0000d271-8b7e-4bb6-bc06-ffbe9412864a      RS  Belgrade   \n",
       "1     0000d271-8b7e-4bb6-bc06-ffbe9412864a      RS  Belgrade   \n",
       "2     0000d271-8b7e-4bb6-bc06-ffbe9412864a      RS  Belgrade   \n",
       "3     0000d271-8b7e-4bb6-bc06-ffbe9412864a      RS  Belgrade   \n",
       "4     0000d271-8b7e-4bb6-bc06-ffbe9412864a      RS  Belgrade   \n",
       "...                                    ...     ...       ...   \n",
       "4661  ff151134-9044-4867-abbb-aa41bd8310a5      RS  Belgrade   \n",
       "4662  ff3be02c-3e46-4f35-8f46-094770638159      RS  Belgrade   \n",
       "4663  ff3be02c-3e46-4f35-8f46-094770638159      RS  Belgrade   \n",
       "4664  ff620c52-bbfa-4594-8906-7bb57cd59f15      RS  Belgrade   \n",
       "4665  ff620c52-bbfa-4594-8906-7bb57cd59f15      RS  Belgrade   \n",
       "\n",
       "                      HotelName  HotelCategory  Anon_id  Country_id  City_id  \\\n",
       "0              AL KHOORY ATRIUM              4        0          24        2   \n",
       "1               ARMADA BLUE BAY              4        0          24        2   \n",
       "2                  DUKES HOTEL               5        0          24        2   \n",
       "3     GRAND EXCELSIOR BUR DUBAI              4        0          24        2   \n",
       "4                  JONRAD HOTEL              3        0          24        2   \n",
       "...                         ...            ...      ...         ...      ...   \n",
       "4661         SHARM GRAND PLAZA               5     1581          24        2   \n",
       "4662                 EDEN HOTEL              4     1582          24        2   \n",
       "4663               VIENNA HOTEL              3     1582          24        2   \n",
       "4664     IC HOTELS GREEN PALACE              5     1583          24        2   \n",
       "4665       MIRADA DEL MAR HOTEL              5     1583          24        2   \n",
       "\n",
       "      Hotel_id  \n",
       "0           15  \n",
       "1           63  \n",
       "2          230  \n",
       "3          315  \n",
       "4          405  \n",
       "...        ...  \n",
       "4661       762  \n",
       "4662       233  \n",
       "4663       869  \n",
       "4664       381  \n",
       "4665       533  \n",
       "\n",
       "[4666 rows x 9 columns]"
      ]
     },
     "execution_count": 19,
     "metadata": {},
     "output_type": "execute_result"
    }
   ],
   "source": [
    "grouped"
   ]
  },
  {
   "cell_type": "code",
   "execution_count": 20,
   "metadata": {},
   "outputs": [],
   "source": [
    "anon_country = sparse.csr_matrix((grouped['HotelCategory'].astype(float), (grouped[\"Anon_id\"], grouped['Country_id'])))\n",
    "\n",
    "city_anon = sparse.csr_matrix((grouped['HotelCategory'].astype(float), (grouped[\"City_id\"], grouped['Anon_id'])))\n",
    "\n",
    "anon_hotel = sparse.csr_matrix((grouped['HotelCategory'].astype(float), (grouped[\"Anon_id\"], grouped['Hotel_id'])))\n",
    "\n",
    "hotel_anon = sparse.csr_matrix((grouped['HotelCategory'].astype(float), (grouped[\"Hotel_id\"], grouped['Anon_id'])))\n",
    "\n",
    "data_in = hotel_anon * anon_country * city_anon\n",
    "data_out = anon_country * city_anon * anon_hotel"
   ]
  },
  {
   "cell_type": "code",
   "execution_count": 21,
   "metadata": {},
   "outputs": [
    {
     "data": {
      "text/plain": [
       "<915x1584 sparse matrix of type '<class 'numpy.float64'>'\n",
       "\twith 157974 stored elements in Compressed Sparse Row format>"
      ]
     },
     "execution_count": 21,
     "metadata": {},
     "output_type": "execute_result"
    }
   ],
   "source": [
    "data_in"
   ]
  },
  {
   "cell_type": "code",
   "execution_count": 22,
   "metadata": {},
   "outputs": [
    {
     "data": {
      "text/plain": [
       "0.8910043053485677"
      ]
     },
     "execution_count": 22,
     "metadata": {},
     "output_type": "execute_result"
    }
   ],
   "source": [
    "1- 157974/(915*1584) #sparsity"
   ]
  },
  {
   "cell_type": "code",
   "execution_count": 23,
   "metadata": {},
   "outputs": [
    {
     "name": "stderr",
     "output_type": "stream",
     "text": [
      "WARNING:root:Intel MKL BLAS detected. Its highly recommend to set the environment variable 'export MKL_NUM_THREADS=1' to disable its internal multithreading\n"
     ]
    }
   ],
   "source": [
    "ALS = implicit.als.AlternatingLeastSquares(factors=50, regularization=0.01, iterations=100, calculate_training_loss=True)"
   ]
  },
  {
   "cell_type": "code",
   "execution_count": 24,
   "metadata": {},
   "outputs": [
    {
     "data": {
      "application/vnd.jupyter.widget-view+json": {
       "model_id": "172ff1cade224e5ebce8920c2230da29",
       "version_major": 2,
       "version_minor": 0
      },
      "text/plain": [
       "HBox(children=(FloatProgress(value=0.0), HTML(value='')))"
      ]
     },
     "metadata": {},
     "output_type": "display_data"
    },
    {
     "name": "stdout",
     "output_type": "stream",
     "text": [
      "\n"
     ]
    }
   ],
   "source": [
    "alpha = 0.15\n",
    "ALS.fit(data_in*alpha)"
   ]
  },
  {
   "cell_type": "markdown",
   "metadata": {},
   "source": [
    "# User & Item Similarities / ALS model "
   ]
  },
  {
   "cell_type": "code",
   "execution_count": 25,
   "metadata": {},
   "outputs": [
    {
     "data": {
      "text/plain": [
       "[(42, 10.982211),\n",
       " (113, 10.979881),\n",
       " (511, 10.975535),\n",
       " (734, 2.762984),\n",
       " (1396, 2.755413),\n",
       " (30, 2.7507405),\n",
       " (539, 2.7408948),\n",
       " (905, 2.7380414),\n",
       " (1023, 2.349169),\n",
       " (184, 2.1955407)]"
      ]
     },
     "execution_count": 25,
     "metadata": {},
     "output_type": "execute_result"
    }
   ],
   "source": [
    "ALS.similar_users(42)"
   ]
  },
  {
   "cell_type": "code",
   "execution_count": 26,
   "metadata": {},
   "outputs": [
    {
     "data": {
      "text/html": [
       "<div>\n",
       "<style scoped>\n",
       "    .dataframe tbody tr th:only-of-type {\n",
       "        vertical-align: middle;\n",
       "    }\n",
       "\n",
       "    .dataframe tbody tr th {\n",
       "        vertical-align: top;\n",
       "    }\n",
       "\n",
       "    .dataframe thead th {\n",
       "        text-align: right;\n",
       "    }\n",
       "</style>\n",
       "<table border=\"1\" class=\"dataframe\">\n",
       "  <thead>\n",
       "    <tr style=\"text-align: right;\">\n",
       "      <th></th>\n",
       "      <th>AnonId</th>\n",
       "      <th>Country</th>\n",
       "      <th>City</th>\n",
       "      <th>HotelName</th>\n",
       "      <th>HotelCategory</th>\n",
       "      <th>Anon_id</th>\n",
       "      <th>Country_id</th>\n",
       "      <th>City_id</th>\n",
       "      <th>Hotel_id</th>\n",
       "    </tr>\n",
       "  </thead>\n",
       "  <tbody>\n",
       "    <tr>\n",
       "      <td>99</td>\n",
       "      <td>0612d74a-a20c-4f80-bb8f-55ce38f0a45b</td>\n",
       "      <td>TR</td>\n",
       "      <td>Istanbul</td>\n",
       "      <td>MIRAGE PARK RESORT</td>\n",
       "      <td>5</td>\n",
       "      <td>42</td>\n",
       "      <td>28</td>\n",
       "      <td>12</td>\n",
       "      <td>534</td>\n",
       "    </tr>\n",
       "  </tbody>\n",
       "</table>\n",
       "</div>"
      ],
      "text/plain": [
       "                                  AnonId Country      City  \\\n",
       "99  0612d74a-a20c-4f80-bb8f-55ce38f0a45b      TR  Istanbul   \n",
       "\n",
       "             HotelName  HotelCategory  Anon_id  Country_id  City_id  Hotel_id  \n",
       "99  MIRAGE PARK RESORT              5       42          28       12       534  "
      ]
     },
     "execution_count": 26,
     "metadata": {},
     "output_type": "execute_result"
    }
   ],
   "source": [
    "grouped[grouped[\"Anon_id\"] == 42]"
   ]
  },
  {
   "cell_type": "code",
   "execution_count": 27,
   "metadata": {},
   "outputs": [
    {
     "data": {
      "text/html": [
       "<div>\n",
       "<style scoped>\n",
       "    .dataframe tbody tr th:only-of-type {\n",
       "        vertical-align: middle;\n",
       "    }\n",
       "\n",
       "    .dataframe tbody tr th {\n",
       "        vertical-align: top;\n",
       "    }\n",
       "\n",
       "    .dataframe thead th {\n",
       "        text-align: right;\n",
       "    }\n",
       "</style>\n",
       "<table border=\"1\" class=\"dataframe\">\n",
       "  <thead>\n",
       "    <tr style=\"text-align: right;\">\n",
       "      <th></th>\n",
       "      <th>AnonId</th>\n",
       "      <th>Country</th>\n",
       "      <th>City</th>\n",
       "      <th>HotelName</th>\n",
       "      <th>HotelCategory</th>\n",
       "      <th>Anon_id</th>\n",
       "      <th>Country_id</th>\n",
       "      <th>City_id</th>\n",
       "      <th>Hotel_id</th>\n",
       "    </tr>\n",
       "  </thead>\n",
       "  <tbody>\n",
       "    <tr>\n",
       "      <td>327</td>\n",
       "      <td>0f8e8785-5428-4522-bdfa-dda3a4e7ff9e</td>\n",
       "      <td>TR</td>\n",
       "      <td>Istanbul</td>\n",
       "      <td>JONRAD HOTEL</td>\n",
       "      <td>3</td>\n",
       "      <td>113</td>\n",
       "      <td>28</td>\n",
       "      <td>12</td>\n",
       "      <td>405</td>\n",
       "    </tr>\n",
       "  </tbody>\n",
       "</table>\n",
       "</div>"
      ],
      "text/plain": [
       "                                   AnonId Country      City     HotelName  \\\n",
       "327  0f8e8785-5428-4522-bdfa-dda3a4e7ff9e      TR  Istanbul  JONRAD HOTEL   \n",
       "\n",
       "     HotelCategory  Anon_id  Country_id  City_id  Hotel_id  \n",
       "327              3      113          28       12       405  "
      ]
     },
     "execution_count": 27,
     "metadata": {},
     "output_type": "execute_result"
    }
   ],
   "source": [
    "grouped[grouped[\"Anon_id\"] == 113]"
   ]
  },
  {
   "cell_type": "code",
   "execution_count": 28,
   "metadata": {},
   "outputs": [
    {
     "data": {
      "text/plain": [
       "[(553, 0.099544056),\n",
       " (717, 0.08660391),\n",
       " (334, 0.08391759),\n",
       " (357, 0.083334975),\n",
       " (495, 0.08326946),\n",
       " (776, 0.083245836),\n",
       " (474, 0.08321289),\n",
       " (769, 0.083164774),\n",
       " (447, 0.083138034),\n",
       " (676, 0.082858644)]"
      ]
     },
     "execution_count": 28,
     "metadata": {},
     "output_type": "execute_result"
    }
   ],
   "source": [
    "ALS.similar_items(553)"
   ]
  },
  {
   "cell_type": "code",
   "execution_count": 29,
   "metadata": {},
   "outputs": [
    {
     "data": {
      "text/html": [
       "<div>\n",
       "<style scoped>\n",
       "    .dataframe tbody tr th:only-of-type {\n",
       "        vertical-align: middle;\n",
       "    }\n",
       "\n",
       "    .dataframe tbody tr th {\n",
       "        vertical-align: top;\n",
       "    }\n",
       "\n",
       "    .dataframe thead th {\n",
       "        text-align: right;\n",
       "    }\n",
       "</style>\n",
       "<table border=\"1\" class=\"dataframe\">\n",
       "  <thead>\n",
       "    <tr style=\"text-align: right;\">\n",
       "      <th></th>\n",
       "      <th>AnonId</th>\n",
       "      <th>Country</th>\n",
       "      <th>City</th>\n",
       "      <th>HotelName</th>\n",
       "      <th>HotelCategory</th>\n",
       "      <th>Anon_id</th>\n",
       "      <th>Country_id</th>\n",
       "      <th>City_id</th>\n",
       "      <th>Hotel_id</th>\n",
       "    </tr>\n",
       "  </thead>\n",
       "  <tbody>\n",
       "    <tr>\n",
       "      <td>3559</td>\n",
       "      <td>c0be7973-059f-4f86-bf37-e7ff6ddd6cd7</td>\n",
       "      <td>BA</td>\n",
       "      <td>Sarajevo</td>\n",
       "      <td>MPM GUINNESS HOTEL</td>\n",
       "      <td>4</td>\n",
       "      <td>1204</td>\n",
       "      <td>2</td>\n",
       "      <td>22</td>\n",
       "      <td>553</td>\n",
       "    </tr>\n",
       "    <tr>\n",
       "      <td>4119</td>\n",
       "      <td>de1cd9a1-80e4-4985-9d0e-eace0bdca8a9</td>\n",
       "      <td>MK</td>\n",
       "      <td>Skopje</td>\n",
       "      <td>MPM GUINNESS HOTEL</td>\n",
       "      <td>4</td>\n",
       "      <td>1396</td>\n",
       "      <td>19</td>\n",
       "      <td>23</td>\n",
       "      <td>553</td>\n",
       "    </tr>\n",
       "    <tr>\n",
       "      <td>4301</td>\n",
       "      <td>eafdec22-98da-40a0-af51-1145fc20669e</td>\n",
       "      <td>RS</td>\n",
       "      <td>Belgrade</td>\n",
       "      <td>MPM GUINNESS HOTEL</td>\n",
       "      <td>4</td>\n",
       "      <td>1466</td>\n",
       "      <td>24</td>\n",
       "      <td>2</td>\n",
       "      <td>553</td>\n",
       "    </tr>\n",
       "  </tbody>\n",
       "</table>\n",
       "</div>"
      ],
      "text/plain": [
       "                                    AnonId Country      City  \\\n",
       "3559  c0be7973-059f-4f86-bf37-e7ff6ddd6cd7      BA  Sarajevo   \n",
       "4119  de1cd9a1-80e4-4985-9d0e-eace0bdca8a9      MK    Skopje   \n",
       "4301  eafdec22-98da-40a0-af51-1145fc20669e      RS  Belgrade   \n",
       "\n",
       "               HotelName  HotelCategory  Anon_id  Country_id  City_id  \\\n",
       "3559  MPM GUINNESS HOTEL              4     1204           2       22   \n",
       "4119  MPM GUINNESS HOTEL              4     1396          19       23   \n",
       "4301  MPM GUINNESS HOTEL              4     1466          24        2   \n",
       "\n",
       "      Hotel_id  \n",
       "3559       553  \n",
       "4119       553  \n",
       "4301       553  "
      ]
     },
     "execution_count": 29,
     "metadata": {},
     "output_type": "execute_result"
    }
   ],
   "source": [
    "grouped[grouped[\"Hotel_id\"] == 553]"
   ]
  },
  {
   "cell_type": "code",
   "execution_count": 30,
   "metadata": {},
   "outputs": [
    {
     "data": {
      "text/html": [
       "<div>\n",
       "<style scoped>\n",
       "    .dataframe tbody tr th:only-of-type {\n",
       "        vertical-align: middle;\n",
       "    }\n",
       "\n",
       "    .dataframe tbody tr th {\n",
       "        vertical-align: top;\n",
       "    }\n",
       "\n",
       "    .dataframe thead th {\n",
       "        text-align: right;\n",
       "    }\n",
       "</style>\n",
       "<table border=\"1\" class=\"dataframe\">\n",
       "  <thead>\n",
       "    <tr style=\"text-align: right;\">\n",
       "      <th></th>\n",
       "      <th>AnonId</th>\n",
       "      <th>Country</th>\n",
       "      <th>City</th>\n",
       "      <th>HotelName</th>\n",
       "      <th>HotelCategory</th>\n",
       "      <th>Anon_id</th>\n",
       "      <th>Country_id</th>\n",
       "      <th>City_id</th>\n",
       "      <th>Hotel_id</th>\n",
       "    </tr>\n",
       "  </thead>\n",
       "  <tbody>\n",
       "    <tr>\n",
       "      <td>2128</td>\n",
       "      <td>7538d028-4bfa-4472-b914-e213133b7190</td>\n",
       "      <td>MK</td>\n",
       "      <td>Skopje</td>\n",
       "      <td>SAILY HOTEL</td>\n",
       "      <td>3</td>\n",
       "      <td>734</td>\n",
       "      <td>19</td>\n",
       "      <td>23</td>\n",
       "      <td>717</td>\n",
       "    </tr>\n",
       "  </tbody>\n",
       "</table>\n",
       "</div>"
      ],
      "text/plain": [
       "                                    AnonId Country    City    HotelName  \\\n",
       "2128  7538d028-4bfa-4472-b914-e213133b7190      MK  Skopje  SAILY HOTEL   \n",
       "\n",
       "      HotelCategory  Anon_id  Country_id  City_id  Hotel_id  \n",
       "2128              3      734          19       23       717  "
      ]
     },
     "execution_count": 30,
     "metadata": {},
     "output_type": "execute_result"
    }
   ],
   "source": [
    "grouped[grouped[\"Hotel_id\"] == 717]"
   ]
  },
  {
   "cell_type": "code",
   "execution_count": 31,
   "metadata": {},
   "outputs": [
    {
     "data": {
      "text/plain": [
       "[(358, 0.9995059),\n",
       " (105, 0.99921775),\n",
       " (241, 0.005210325),\n",
       " (659, 0.0014193058),\n",
       " (547, 0.0013900697),\n",
       " (370, 0.0013190582),\n",
       " (10, 0.0013037771),\n",
       " (245, 0.0009741485),\n",
       " (12, 0.0008798018),\n",
       " (682, 0.0006994717)]"
      ]
     },
     "execution_count": 31,
     "metadata": {},
     "output_type": "execute_result"
    }
   ],
   "source": [
    "ALS.recommend(767, data_out, filter_already_liked_items=True)"
   ]
  },
  {
   "cell_type": "code",
   "execution_count": 32,
   "metadata": {},
   "outputs": [
    {
     "data": {
      "text/html": [
       "<div>\n",
       "<style scoped>\n",
       "    .dataframe tbody tr th:only-of-type {\n",
       "        vertical-align: middle;\n",
       "    }\n",
       "\n",
       "    .dataframe tbody tr th {\n",
       "        vertical-align: top;\n",
       "    }\n",
       "\n",
       "    .dataframe thead th {\n",
       "        text-align: right;\n",
       "    }\n",
       "</style>\n",
       "<table border=\"1\" class=\"dataframe\">\n",
       "  <thead>\n",
       "    <tr style=\"text-align: right;\">\n",
       "      <th></th>\n",
       "      <th>AnonId</th>\n",
       "      <th>Country</th>\n",
       "      <th>City</th>\n",
       "      <th>HotelName</th>\n",
       "      <th>HotelCategory</th>\n",
       "      <th>Anon_id</th>\n",
       "      <th>Country_id</th>\n",
       "      <th>City_id</th>\n",
       "      <th>Hotel_id</th>\n",
       "    </tr>\n",
       "  </thead>\n",
       "  <tbody>\n",
       "    <tr>\n",
       "      <td>2240</td>\n",
       "      <td>7afdd4cb-7def-4646-b068-54c5ff4f6f76</td>\n",
       "      <td>BA</td>\n",
       "      <td>Sarajevo</td>\n",
       "      <td>ELISABETHPARK</td>\n",
       "      <td>4</td>\n",
       "      <td>767</td>\n",
       "      <td>2</td>\n",
       "      <td>22</td>\n",
       "      <td>245</td>\n",
       "    </tr>\n",
       "  </tbody>\n",
       "</table>\n",
       "</div>"
      ],
      "text/plain": [
       "                                    AnonId Country      City      HotelName  \\\n",
       "2240  7afdd4cb-7def-4646-b068-54c5ff4f6f76      BA  Sarajevo  ELISABETHPARK   \n",
       "\n",
       "      HotelCategory  Anon_id  Country_id  City_id  Hotel_id  \n",
       "2240              4      767           2       22       245  "
      ]
     },
     "execution_count": 32,
     "metadata": {},
     "output_type": "execute_result"
    }
   ],
   "source": [
    "grouped[grouped.Anon_id == 767]"
   ]
  },
  {
   "cell_type": "code",
   "execution_count": 33,
   "metadata": {},
   "outputs": [
    {
     "data": {
      "text/html": [
       "<div>\n",
       "<style scoped>\n",
       "    .dataframe tbody tr th:only-of-type {\n",
       "        vertical-align: middle;\n",
       "    }\n",
       "\n",
       "    .dataframe tbody tr th {\n",
       "        vertical-align: top;\n",
       "    }\n",
       "\n",
       "    .dataframe thead th {\n",
       "        text-align: right;\n",
       "    }\n",
       "</style>\n",
       "<table border=\"1\" class=\"dataframe\">\n",
       "  <thead>\n",
       "    <tr style=\"text-align: right;\">\n",
       "      <th></th>\n",
       "      <th>AnonId</th>\n",
       "      <th>Country</th>\n",
       "      <th>City</th>\n",
       "      <th>HotelName</th>\n",
       "      <th>HotelCategory</th>\n",
       "      <th>Anon_id</th>\n",
       "      <th>Country_id</th>\n",
       "      <th>City_id</th>\n",
       "      <th>Hotel_id</th>\n",
       "    </tr>\n",
       "  </thead>\n",
       "  <tbody>\n",
       "    <tr>\n",
       "      <td>3565</td>\n",
       "      <td>c0edac2c-3085-45fa-9419-72e64029f65c</td>\n",
       "      <td>PT</td>\n",
       "      <td>Porto</td>\n",
       "      <td>HM BALANGUERA BEACH - PLAYA DE PALMA</td>\n",
       "      <td>4</td>\n",
       "      <td>1205</td>\n",
       "      <td>22</td>\n",
       "      <td>21</td>\n",
       "      <td>358</td>\n",
       "    </tr>\n",
       "  </tbody>\n",
       "</table>\n",
       "</div>"
      ],
      "text/plain": [
       "                                    AnonId Country   City  \\\n",
       "3565  c0edac2c-3085-45fa-9419-72e64029f65c      PT  Porto   \n",
       "\n",
       "                                 HotelName  HotelCategory  Anon_id  \\\n",
       "3565  HM BALANGUERA BEACH - PLAYA DE PALMA              4     1205   \n",
       "\n",
       "      Country_id  City_id  Hotel_id  \n",
       "3565          22       21       358  "
      ]
     },
     "execution_count": 33,
     "metadata": {},
     "output_type": "execute_result"
    }
   ],
   "source": [
    "grouped[grouped.Hotel_id == 358]"
   ]
  },
  {
   "cell_type": "code",
   "execution_count": 34,
   "metadata": {},
   "outputs": [
    {
     "data": {
      "application/vnd.jupyter.widget-view+json": {
       "model_id": "3ac33627e5574cc5aafc57e592c5c76d",
       "version_major": 2,
       "version_minor": 0
      },
      "text/plain": [
       "HBox(children=(FloatProgress(value=0.0, max=1584.0), HTML(value='')))"
      ]
     },
     "metadata": {},
     "output_type": "display_data"
    },
    {
     "name": "stdout",
     "output_type": "stream",
     "text": [
      "\n"
     ]
    }
   ],
   "source": [
    "recs = ALS.recommend_all(data_out, N=1).tolist()"
   ]
  },
  {
   "cell_type": "code",
   "execution_count": 35,
   "metadata": {},
   "outputs": [
    {
     "data": {
      "text/plain": [
       "45"
      ]
     },
     "execution_count": 35,
     "metadata": {},
     "output_type": "execute_result"
    }
   ],
   "source": [
    "len(pd.Series(recs).value_counts()) #1584 kullanıcı için toplam 45 farklı otel önerisi  XXX"
   ]
  },
  {
   "cell_type": "code",
   "execution_count": null,
   "metadata": {},
   "outputs": [],
   "source": []
  },
  {
   "cell_type": "code",
   "execution_count": null,
   "metadata": {},
   "outputs": [],
   "source": []
  },
  {
   "cell_type": "code",
   "execution_count": 36,
   "metadata": {},
   "outputs": [],
   "source": [
    "#A Gentle Introduction to Recommender Systems with Implicit Feedback\n",
    "#https://jessesw.com/Rec-System/"
   ]
  },
  {
   "cell_type": "code",
   "execution_count": 37,
   "metadata": {},
   "outputs": [],
   "source": [
    "def make_train(ratings, pct_test = 0.2):\n",
    "    '''\n",
    "    This function will take in the original user-item matrix and \"mask\" a percentage of the original ratings where a\n",
    "    user-item interaction has taken place for use as a test set. The test set will contain all of the original ratings, \n",
    "    while the training set replaces the specified percentage of them with a zero in the original ratings matrix. \n",
    "    \n",
    "    parameters: \n",
    "    \n",
    "    ratings - the original ratings matrix from which you want to generate a train/test set. Test is just a complete\n",
    "    copy of the original set. This is in the form of a sparse csr_matrix. \n",
    "    \n",
    "    pct_test - The percentage of user-item interactions where an interaction took place that you want to mask in the \n",
    "    training set for later comparison to the test set, which contains all of the original ratings. \n",
    "    \n",
    "    returns:\n",
    "    \n",
    "    training_set - The altered version of the original data with a certain percentage of the user-item pairs \n",
    "    that originally had interaction set back to zero.\n",
    "    \n",
    "    test_set - A copy of the original ratings matrix, unaltered, so it can be used to see how the rank order \n",
    "    compares with the actual interactions.\n",
    "    \n",
    "    user_inds - From the randomly selected user-item indices, which user rows were altered in the training data.\n",
    "    This will be necessary later when evaluating the performance via AUC.\n",
    "    '''\n",
    "    test_set = ratings.copy() # Make a copy of the original set to be the test set. \n",
    "    test_set[test_set != 0] = 1 # Store the test set as a binary preference matrix\n",
    "    training_set = ratings.copy() # Make a copy of the original data we can alter as our training set. \n",
    "    nonzero_inds = training_set.nonzero() # Find the indices in the ratings data where an interaction exists\n",
    "    nonzero_pairs = list(zip(nonzero_inds[0], nonzero_inds[1])) # Zip these pairs together of user,item index into list\n",
    "    random.seed(0) # Set the random seed to zero for reproducibility\n",
    "    num_samples = int(np.ceil(pct_test*len(nonzero_pairs))) # Round the number of samples needed to the nearest integer\n",
    "    samples = random.sample(nonzero_pairs, num_samples) # Sample a random number of user-item pairs without replacement\n",
    "    user_inds = [index[0] for index in samples] # Get the user row indices\n",
    "    item_inds = [index[1] for index in samples] # Get the item column indices\n",
    "    training_set[user_inds, item_inds] = 0 # Assign all of the randomly chosen user-item pairs to zero\n",
    "    training_set.eliminate_zeros() # Get rid of zeros in sparse array storage after update to save space\n",
    "    return training_set, test_set, list(set(user_inds))"
   ]
  },
  {
   "cell_type": "code",
   "execution_count": 38,
   "metadata": {},
   "outputs": [],
   "source": [
    "train, test, users_ = make_train(data_in, pct_test = 0.2)"
   ]
  },
  {
   "cell_type": "code",
   "execution_count": 39,
   "metadata": {},
   "outputs": [
    {
     "data": {
      "text/plain": [
       "<915x1584 sparse matrix of type '<class 'numpy.float64'>'\n",
       "\twith 126379 stored elements in Compressed Sparse Row format>"
      ]
     },
     "execution_count": 39,
     "metadata": {},
     "output_type": "execute_result"
    }
   ],
   "source": [
    "train"
   ]
  },
  {
   "cell_type": "code",
   "execution_count": 40,
   "metadata": {},
   "outputs": [],
   "source": [
    "def implicit_weighted_ALS(training_set, lambda_val = 0.1, alpha = 40, iterations = 10, rank_size = 20, seed = 0):\n",
    "    '''\n",
    "    Implicit weighted ALS taken from Hu, Koren, and Volinsky 2008. Designed for alternating least squares and implicit\n",
    "    feedback based collaborative filtering. \n",
    "    \n",
    "    parameters:\n",
    "    \n",
    "    training_set - Our matrix of ratings with shape m x n, where m is the number of users and n is the number of items.\n",
    "    Should be a sparse csr matrix to save space. \n",
    "    \n",
    "    lambda_val - Used for regularization during alternating least squares. Increasing this value may increase bias\n",
    "    but decrease variance. Default is 0.1. \n",
    "    \n",
    "    alpha - The parameter associated with the confidence matrix discussed in the paper, where Cui = 1 + alpha*Rui. \n",
    "    The paper found a default of 40 most effective. Decreasing this will decrease the variability in confidence between\n",
    "    various ratings.\n",
    "    \n",
    "    iterations - The number of times to alternate between both user feature vector and item feature vector in\n",
    "    alternating least squares. More iterations will allow better convergence at the cost of increased computation. \n",
    "    The authors found 10 iterations was sufficient, but more may be required to converge. \n",
    "    \n",
    "    rank_size - The number of latent features in the user/item feature vectors. The paper recommends varying this \n",
    "    between 20-200. Increasing the number of features may overfit but could reduce bias. \n",
    "    \n",
    "    seed - Set the seed for reproducible results\n",
    "    \n",
    "    returns:\n",
    "    \n",
    "    The feature vectors for users and items. The dot product of these feature vectors should give you the expected \n",
    "    \"rating\" at each point in your original matrix. \n",
    "    '''\n",
    "    \n",
    "    # first set up our confidence matrix\n",
    "    \n",
    "    conf = (alpha*training_set) # To allow the matrix to stay sparse, I will add one later when each row is taken \n",
    "                                # and converted to dense. \n",
    "    num_user = conf.shape[0]\n",
    "    num_item = conf.shape[1] # Get the size of our original ratings matrix, m x n\n",
    "    \n",
    "    # initialize our X/Y feature vectors randomly with a set seed\n",
    "    rstate = np.random.RandomState(seed)\n",
    "    \n",
    "    X = sparse.csr_matrix(rstate.normal(size = (num_user, rank_size))) # Random numbers in a m x rank shape\n",
    "    Y = sparse.csr_matrix(rstate.normal(size = (num_item, rank_size))) # Normally this would be rank x n but we can \n",
    "                                                                 # transpose at the end. Makes calculation more simple.\n",
    "    X_eye = sparse.eye(num_user)\n",
    "    Y_eye = sparse.eye(num_item)\n",
    "    lambda_eye = lambda_val * sparse.eye(rank_size) # Our regularization term lambda*I. \n",
    "    \n",
    "    # We can compute this before iteration starts. \n",
    "    \n",
    "    # Begin iterations\n",
    "   \n",
    "    for iter_step in range(iterations): # Iterate back and forth between solving X given fixed Y and vice versa\n",
    "        # Compute yTy and xTx at beginning of each iteration to save computing time\n",
    "        yTy = Y.T.dot(Y)\n",
    "        xTx = X.T.dot(X)\n",
    "        # Being iteration to solve for X based on fixed Y\n",
    "        for u in range(num_user):\n",
    "            conf_samp = conf[u,:].toarray() # Grab user row from confidence matrix and convert to dense\n",
    "            pref = conf_samp.copy() \n",
    "            pref[pref != 0] = 1 # Create binarized preference vector \n",
    "            CuI = sparse.diags(conf_samp, [0]) # Get Cu - I term, don't need to subtract 1 since we never added it \n",
    "            yTCuIY = Y.T.dot(CuI).dot(Y) # This is the yT(Cu-I)Y term \n",
    "            yTCupu = Y.T.dot(CuI + Y_eye).dot(pref.T) # This is the yTCuPu term, where we add the eye back in\n",
    "                                                      # Cu - I + I = Cu\n",
    "            X[u] = spsolve(yTy + yTCuIY + lambda_eye, yTCupu) \n",
    "            # Solve for Xu = ((yTy + yT(Cu-I)Y + lambda*I)^-1)yTCuPu, equation 4 from the paper  \n",
    "        # Begin iteration to solve for Y based on fixed X \n",
    "        for i in range(num_item):\n",
    "            conf_samp = conf[:,i].T.toarray() # transpose to get it in row format and convert to dense\n",
    "            pref = conf_samp.copy()\n",
    "            pref[pref != 0] = 1 # Create binarized preference vector\n",
    "            CiI = sparse.diags(conf_samp, [0]) # Get Ci - I term, don't need to subtract 1 since we never added it\n",
    "            xTCiIX = X.T.dot(CiI).dot(X) # This is the xT(Cu-I)X term\n",
    "            xTCiPi = X.T.dot(CiI + X_eye).dot(pref.T) # This is the xTCiPi term\n",
    "            Y[i] = spsolve(xTx + xTCiIX + lambda_eye, xTCiPi)\n",
    "            # Solve for Yi = ((xTx + xT(Cu-I)X) + lambda*I)^-1)xTCiPi, equation 5 from the paper\n",
    "    # End iterations\n",
    "    return X, Y.T # Transpose at the end to make up for not being transposed at the beginning. \n",
    "                         # Y needs to be rank x n. Keep these as separate matrices for scale reasons. "
   ]
  },
  {
   "cell_type": "code",
   "execution_count": 41,
   "metadata": {},
   "outputs": [],
   "source": [
    "user_vecs, item_vecs = implicit_weighted_ALS(train, lambda_val = 0.1, alpha = 15, iterations = 3,\n",
    "                                            rank_size = 20)"
   ]
  },
  {
   "cell_type": "code",
   "execution_count": 42,
   "metadata": {},
   "outputs": [
    {
     "name": "stderr",
     "output_type": "stream",
     "text": [
      "WARNING:implicit:This method is deprecated. Please use the AlternatingLeastSquares class instead\n"
     ]
    },
    {
     "data": {
      "application/vnd.jupyter.widget-view+json": {
       "model_id": "214b2c25039744fc813dc6fc932eddc4",
       "version_major": 2,
       "version_minor": 0
      },
      "text/plain": [
       "HBox(children=(FloatProgress(value=0.0, max=50.0), HTML(value='')))"
      ]
     },
     "metadata": {},
     "output_type": "display_data"
    },
    {
     "name": "stdout",
     "output_type": "stream",
     "text": [
      "\n"
     ]
    }
   ],
   "source": [
    "alpha = 15\n",
    "user_vecs, item_vecs = implicit.alternating_least_squares((train*alpha).astype('double'), \n",
    "                                                          factors=20, \n",
    "                                                          regularization = 0.1, \n",
    "                                                          iterations = 50, \n",
    "                                                          calculate_training_loss=True)"
   ]
  },
  {
   "cell_type": "code",
   "execution_count": 43,
   "metadata": {},
   "outputs": [],
   "source": [
    "def auc_score(predictions, test):\n",
    "    '''\n",
    "    This simple function will output the area under the curve using sklearn's metrics. \n",
    "    \n",
    "    parameters:\n",
    "    \n",
    "    - predictions: your prediction output\n",
    "    \n",
    "    - test: the actual target result you are comparing to\n",
    "    \n",
    "    returns:\n",
    "    \n",
    "    - AUC (area under the Receiver Operating Characterisic curve)\n",
    "    '''\n",
    "    fpr, tpr, thresholds = metrics.roc_curve(test, predictions)\n",
    "    return metrics.auc(fpr, tpr)   "
   ]
  },
  {
   "cell_type": "code",
   "execution_count": 44,
   "metadata": {},
   "outputs": [],
   "source": [
    "def calc_mean_auc(training_set, altered_users, predictions, test_set):\n",
    "    '''\n",
    "    This function will calculate the mean AUC by user for any user that had their user-item matrix altered. \n",
    "    \n",
    "    parameters:\n",
    "    \n",
    "    training_set - The training set resulting from make_train, where a certain percentage of the original\n",
    "    user/item interactions are reset to zero to hide them from the model \n",
    "    \n",
    "    predictions - The matrix of your predicted ratings for each user/item pair as output from the implicit MF.\n",
    "    These should be stored in a list, with user vectors as item zero and item vectors as item one. \n",
    "    \n",
    "    altered_users - The indices of the users where at least one user/item pair was altered from make_train function\n",
    "    \n",
    "    test_set - The test set constucted earlier from make_train function\n",
    "    \n",
    "    \n",
    "    \n",
    "    returns:\n",
    "    \n",
    "    The mean AUC (area under the Receiver Operator Characteristic curve) of the test set only on user-item interactions\n",
    "    there were originally zero to test ranking ability in addition to the most popular items as a benchmark.\n",
    "    '''\n",
    "    \n",
    "    \n",
    "    store_auc = [] # An empty list to store the AUC for each user that had an item removed from the training set\n",
    "    popularity_auc = [] # To store popular AUC scores\n",
    "    pop_items = np.array(test_set.sum(axis = 0)).reshape(-1) # Get sum of item iteractions to find most popular\n",
    "    item_vecs = predictions[1]\n",
    "    for user in altered_users: # Iterate through each user that had an item altered\n",
    "        training_row = training_set[user,:].toarray().reshape(-1) # Get the training set row\n",
    "        zero_inds = np.where(training_row == 0) # Find where the interaction had not yet occurred\n",
    "        # Get the predicted values based on our user/item vectors\n",
    "        user_vec = predictions[0][user,:]\n",
    "        pred = user_vec.dot(item_vecs).toarray()[0,zero_inds].reshape(-1)\n",
    "        # Get only the items that were originally zero\n",
    "        # Select all ratings from the MF prediction for this user that originally had no iteraction\n",
    "        actual = test_set[user,:].toarray()[0,zero_inds].reshape(-1) \n",
    "        # Select the binarized yes/no interaction pairs from the original full data\n",
    "        # that align with the same pairs in training \n",
    "        pop = pop_items[zero_inds] # Get the item popularity for our chosen items\n",
    "        store_auc.append(auc_score(pred, actual)) # Calculate AUC for the given user and store\n",
    "        popularity_auc.append(auc_score(pop, actual)) # Calculate AUC using most popular and score\n",
    "    # End users iteration\n",
    "    \n",
    "    return float('%.3f'%np.mean(store_auc)), float('%.3f'%np.mean(popularity_auc))  \n",
    "   # Return the mean AUC rounded to three "
   ]
  },
  {
   "cell_type": "code",
   "execution_count": 45,
   "metadata": {},
   "outputs": [
    {
     "data": {
      "text/plain": [
       "(0.799, 0.787)"
      ]
     },
     "execution_count": 45,
     "metadata": {},
     "output_type": "execute_result"
    }
   ],
   "source": [
    "calc_mean_auc(train, users_, \n",
    "              [sparse.csr_matrix(user_vecs), sparse.csr_matrix(item_vecs.T)], test)\n",
    "# AUC for our recommender system"
   ]
  },
  {
   "cell_type": "code",
   "execution_count": null,
   "metadata": {},
   "outputs": [],
   "source": []
  },
  {
   "cell_type": "code",
   "execution_count": null,
   "metadata": {},
   "outputs": [],
   "source": []
  },
  {
   "cell_type": "markdown",
   "metadata": {},
   "source": [
    "# LightFM model with City & Country"
   ]
  },
  {
   "cell_type": "code",
   "execution_count": 46,
   "metadata": {},
   "outputs": [],
   "source": [
    "from lightfm.cross_validation import random_train_test_split"
   ]
  },
  {
   "cell_type": "code",
   "execution_count": 47,
   "metadata": {},
   "outputs": [],
   "source": [
    "train, test = random_train_test_split(data_in, test_percentage=0.25)"
   ]
  },
  {
   "cell_type": "code",
   "execution_count": 48,
   "metadata": {},
   "outputs": [],
   "source": [
    "from lightfm import LightFM\n",
    "from lightfm.evaluation import precision_at_k, recall_at_k, auc_score"
   ]
  },
  {
   "cell_type": "code",
   "execution_count": 49,
   "metadata": {},
   "outputs": [
    {
     "name": "stdout",
     "output_type": "stream",
     "text": [
      "Wall time: 1min 20s\n"
     ]
    },
    {
     "data": {
      "text/plain": [
       "<lightfm.lightfm.LightFM at 0x17f195f9c48>"
      ]
     },
     "execution_count": 49,
     "metadata": {},
     "output_type": "execute_result"
    }
   ],
   "source": [
    "model = LightFM(loss='warp-kos')\n",
    "%time model.fit(train, epochs=30, num_threads=4)"
   ]
  },
  {
   "cell_type": "code",
   "execution_count": 50,
   "metadata": {
    "scrolled": true
   },
   "outputs": [
    {
     "name": "stdout",
     "output_type": "stream",
     "text": [
      "Train precision: 0.36\n",
      "Test precision: 0.12\n"
     ]
    }
   ],
   "source": [
    "print(\"Train precision: %.2f\" % precision_at_k(model, train, k=5).mean())\n",
    "print(\"Test precision: %.2f\" % precision_at_k(model, test, k=5).mean())"
   ]
  },
  {
   "cell_type": "code",
   "execution_count": 51,
   "metadata": {},
   "outputs": [
    {
     "name": "stdout",
     "output_type": "stream",
     "text": [
      "Train recall: 0.72\n",
      "Test recall: 0.50\n"
     ]
    }
   ],
   "source": [
    "print(\"Train recall: %.2f\" % recall_at_k(model, train, k=5).mean())\n",
    "print(\"Test recall: %.2f\" % recall_at_k(model, test, k=5).mean())"
   ]
  },
  {
   "cell_type": "code",
   "execution_count": 52,
   "metadata": {},
   "outputs": [
    {
     "name": "stdout",
     "output_type": "stream",
     "text": [
      "Train auc: 0.96\n",
      "Test auc: 0.80\n"
     ]
    }
   ],
   "source": [
    "print(\"Train auc: %.2f\" % auc_score(model, train).mean())\n",
    "print(\"Test auc: %.2f\" % auc_score(model, test).mean())"
   ]
  },
  {
   "cell_type": "markdown",
   "metadata": {},
   "source": [
    "# Without  City & Country"
   ]
  },
  {
   "cell_type": "code",
   "execution_count": 53,
   "metadata": {},
   "outputs": [],
   "source": [
    "train2, test2 = random_train_test_split(anon_hotel, test_percentage=0.25)"
   ]
  },
  {
   "cell_type": "code",
   "execution_count": 54,
   "metadata": {},
   "outputs": [
    {
     "name": "stdout",
     "output_type": "stream",
     "text": [
      "Wall time: 1.58 s\n"
     ]
    },
    {
     "data": {
      "text/plain": [
       "<lightfm.lightfm.LightFM at 0x17f1959ab88>"
      ]
     },
     "execution_count": 54,
     "metadata": {},
     "output_type": "execute_result"
    }
   ],
   "source": [
    "lfm_model2 = LightFM(loss=\"warp-kos\")\n",
    "%time lfm_model2.fit(train2, epochs=30)"
   ]
  },
  {
   "cell_type": "code",
   "execution_count": 55,
   "metadata": {},
   "outputs": [
    {
     "name": "stdout",
     "output_type": "stream",
     "text": [
      "Train precision: 0.20\n",
      "Test precision: 0.01\n"
     ]
    }
   ],
   "source": [
    "print(\"Train precision: %.2f\" % precision_at_k(lfm_model2, train2, k=5).mean())\n",
    "print(\"Test precision: %.2f\" % precision_at_k(lfm_model2, test2, k=5).mean())"
   ]
  },
  {
   "cell_type": "code",
   "execution_count": 56,
   "metadata": {},
   "outputs": [
    {
     "name": "stdout",
     "output_type": "stream",
     "text": [
      "Train recall: 0.58\n",
      "Test recall: 0.04\n"
     ]
    }
   ],
   "source": [
    "print(\"Train recall: %.2f\" % recall_at_k(lfm_model2, train2, k=5).mean())\n",
    "print(\"Test recall: %.2f\" % recall_at_k(lfm_model2, test2, k=5).mean())"
   ]
  },
  {
   "cell_type": "code",
   "execution_count": 57,
   "metadata": {},
   "outputs": [
    {
     "name": "stdout",
     "output_type": "stream",
     "text": [
      "Train auc: 0.98\n",
      "Test auc: 0.69\n"
     ]
    }
   ],
   "source": [
    "print(\"Train auc: %.2f\" % auc_score(lfm_model2, train2).mean())\n",
    "print(\"Test auc: %.2f\" % auc_score(lfm_model2, test2).mean())"
   ]
  },
  {
   "cell_type": "code",
   "execution_count": null,
   "metadata": {},
   "outputs": [],
   "source": []
  }
 ],
 "metadata": {
  "kernelspec": {
   "display_name": "Python 3",
   "language": "python",
   "name": "python3"
  },
  "language_info": {
   "codemirror_mode": {
    "name": "ipython",
    "version": 3
   },
   "file_extension": ".py",
   "mimetype": "text/x-python",
   "name": "python",
   "nbconvert_exporter": "python",
   "pygments_lexer": "ipython3",
   "version": "3.7.4"
  }
 },
 "nbformat": 4,
 "nbformat_minor": 2
}
